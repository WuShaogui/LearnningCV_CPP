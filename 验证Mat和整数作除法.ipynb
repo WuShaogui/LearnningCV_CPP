{
 "cells": [
  {
   "cell_type": "code",
   "execution_count": 1,
   "metadata": {
    "ExecuteTime": {
     "end_time": "2021-07-29T05:46:51.659051Z",
     "start_time": "2021-07-29T05:46:50.235687Z"
    }
   },
   "outputs": [],
   "source": [
    "#include \"JupyterOpencvIncludeLibraries.h\"\n",
    "#include \"displayImages.h\"\n",
    "#include <opencv2/opencv.hpp>\n",
    "using namespace cv;\n",
    "using namespace std;"
   ]
  },
  {
   "cell_type": "code",
   "execution_count": 2,
   "metadata": {
    "ExecuteTime": {
     "end_time": "2021-07-29T05:46:51.667769Z",
     "start_time": "2021-07-29T05:46:51.659217Z"
    },
    "code_folding": [
     1
    ]
   },
   "outputs": [],
   "source": [
    "void display(cv::Mat &ob, int args)\n",
    "{\n",
    "\n",
    "    switch(args)\n",
    "    {\n",
    "        case 1:\n",
    "                for (int i = 0; i < ob.rows; i++)\n",
    "                {\n",
    "                    for (int j = 0; j < ob.cols; j++)\n",
    "                    {\n",
    "                        std::cout<< ob.at<float>(i,j)<<\" \";               \n",
    "                    }\n",
    "                    std::cout<<\"\\n\";\n",
    "                    \n",
    "                }\n",
    "                break;\n",
    "\n",
    "        case 2:\n",
    "                for (int i = 0; i < ob.rows; i++)\n",
    "                {\n",
    "                    for (int j = 0; j < ob.cols; j++)\n",
    "                    {\n",
    "                        std::cout<< ob.at<cv::Vec2f>(i,j)<<\" \";               \n",
    "                    }\n",
    "                    std::cout<<\"\\n\";\n",
    "                    \n",
    "                }\n",
    "                break;\n",
    "\n",
    "        case 3:\n",
    "                for (int i = 0; i < ob.rows; i++)\n",
    "                {\n",
    "                    for (int j = 0; j < ob.cols; j++)\n",
    "                    {\n",
    "                        std::cout<< ob.at<cv::Vec3f>(i,j)<<\" \";               \n",
    "                    }\n",
    "                    std::cout<<\"\\n\";\n",
    "                    \n",
    "                }\n",
    "                break;\n",
    "\n",
    "        default:\n",
    "                std::cout << \"Invalid args\\n\";\n",
    "    }\n",
    "    \n",
    "}"
   ]
  },
  {
   "cell_type": "code",
   "execution_count": 3,
   "metadata": {
    "ExecuteTime": {
     "end_time": "2021-07-29T05:46:51.676637Z",
     "start_time": "2021-07-29T05:46:51.667907Z"
    }
   },
   "outputs": [],
   "source": [
    "cv::Mat src, mean, stddev;\n",
    "src = cv::Mat(2, 5, CV_32FC3, cv::Scalar(15, 20, 7));"
   ]
  },
  {
   "cell_type": "code",
   "execution_count": 4,
   "metadata": {
    "ExecuteTime": {
     "end_time": "2021-07-29T05:46:51.681356Z",
     "start_time": "2021-07-29T05:46:51.676772Z"
    }
   },
   "outputs": [
    {
     "name": "stdout",
     "output_type": "stream",
     "text": [
      "[15, 20, 7] [15, 20, 7] [15, 20, 7] [15, 20, 7] [15, 20, 7] \n",
      "[15, 20, 7] [15, 20, 7] [15, 20, 7] [15, 20, 7] [15, 20, 7] \n"
     ]
    }
   ],
   "source": [
    "display(src, 3);"
   ]
  },
  {
   "cell_type": "code",
   "execution_count": 5,
   "metadata": {
    "ExecuteTime": {
     "end_time": "2021-07-29T05:46:51.685951Z",
     "start_time": "2021-07-29T05:46:51.681475Z"
    }
   },
   "outputs": [],
   "source": [
    "src=src/3;"
   ]
  },
  {
   "cell_type": "code",
   "execution_count": 6,
   "metadata": {
    "ExecuteTime": {
     "end_time": "2021-07-29T05:46:59.987790Z",
     "start_time": "2021-07-29T05:46:59.96363Z"
    }
   },
   "outputs": [
    {
     "name": "stdout",
     "output_type": "stream",
     "text": [
      "[5, 6.66667, 2.33333] [5, 6.66667, 2.33333] [5, 6.66667, 2.33333] [5, 6.66667, 2.33333] [5, 6.66667, 2.33333] \n",
      "[5, 6.66667, 2.33333] [5, 6.66667, 2.33333] [5, 6.66667, 2.33333] [5, 6.66667, 2.33333] [5, 6.66667, 2.33333] \n"
     ]
    }
   ],
   "source": [
    "display(src, 3);"
   ]
  }
 ],
 "metadata": {
  "kernelspec": {
   "display_name": "C++14",
   "language": "C++14",
   "name": "xcpp14"
  },
  "language_info": {
   "codemirror_mode": "text/x-c++src",
   "file_extension": ".cpp",
   "mimetype": "text/x-c++src",
   "name": "c++",
   "version": "14"
  },
  "toc": {
   "base_numbering": 1,
   "nav_menu": {},
   "number_sections": true,
   "sideBar": true,
   "skip_h1_title": false,
   "title_cell": "Table of Contents",
   "title_sidebar": "Contents",
   "toc_cell": false,
   "toc_position": {},
   "toc_section_display": true,
   "toc_window_display": false
  }
 },
 "nbformat": 4,
 "nbformat_minor": 4
}
