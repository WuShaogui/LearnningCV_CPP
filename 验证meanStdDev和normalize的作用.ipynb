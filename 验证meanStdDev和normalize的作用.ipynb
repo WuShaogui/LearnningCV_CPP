{
 "cells": [
  {
   "cell_type": "code",
   "execution_count": 1,
   "metadata": {
    "ExecuteTime": {
     "end_time": "2021-07-28T06:06:38.694357Z",
     "start_time": "2021-07-28T06:06:37.294621Z"
    }
   },
   "outputs": [],
   "source": [
    "#include \"JupyterOpencvIncludeLibraries.h\"\n",
    "#include \"displayImages.h\"\n",
    "#include <opencv2/opencv.hpp>\n",
    "using namespace cv;\n",
    "using namespace std;"
   ]
  },
  {
   "cell_type": "code",
   "execution_count": 2,
   "metadata": {
    "ExecuteTime": {
     "end_time": "2021-07-28T06:06:38.701840Z",
     "start_time": "2021-07-28T06:06:38.694531Z"
    },
    "code_folding": [
     1
    ]
   },
   "outputs": [],
   "source": [
    "void display(cv::Mat &ob, int args)\n",
    "{\n",
    "\n",
    "    switch(args)\n",
    "    {\n",
    "        case 1:\n",
    "                for (int i = 0; i < ob.rows; i++)\n",
    "                {\n",
    "                    for (int j = 0; j < ob.cols; j++)\n",
    "                    {\n",
    "                        std::cout<< ob.at<float>(i,j)<<\" \";               \n",
    "                    }\n",
    "                    std::cout<<\"\\n\";\n",
    "                    \n",
    "                }\n",
    "                break;\n",
    "\n",
    "        case 2:\n",
    "                for (int i = 0; i < ob.rows; i++)\n",
    "                {\n",
    "                    for (int j = 0; j < ob.cols; j++)\n",
    "                    {\n",
    "                        std::cout<< ob.at<cv::Vec2f>(i,j)<<\" \";               \n",
    "                    }\n",
    "                    std::cout<<\"\\n\";\n",
    "                    \n",
    "                }\n",
    "                break;\n",
    "\n",
    "        case 3:\n",
    "                for (int i = 0; i < ob.rows; i++)\n",
    "                {\n",
    "                    for (int j = 0; j < ob.cols; j++)\n",
    "                    {\n",
    "                        std::cout<< ob.at<cv::Vec3f>(i,j)<<\" \";               \n",
    "                    }\n",
    "                    std::cout<<\"\\n\";\n",
    "                    \n",
    "                }\n",
    "                break;\n",
    "\n",
    "        default:\n",
    "                std::cout << \"Invalid args\\n\";\n",
    "    }\n",
    "    \n",
    "}"
   ]
  },
  {
   "cell_type": "code",
   "execution_count": 3,
   "metadata": {
    "ExecuteTime": {
     "end_time": "2021-07-28T05:55:32.160223Z",
     "start_time": "2021-07-28T05:55:32.140641Z"
    }
   },
   "outputs": [
    {
     "name": "stdout",
     "output_type": "stream",
     "text": [
      "15 15 15 15 15 \n",
      "15 15 15 15 15 \n",
      "[15]\n",
      "[0]\n",
      "\n"
     ]
    }
   ],
   "source": [
    "cv::Mat src, mean, stddev;\n",
    "src = cv::Mat(2, 5, CV_32FC1, cv::Scalar(15));\n",
    "cv::meanStdDev(src, mean, stddev);\n",
    "display(src, 1);\n",
    "std::cout << mean << std::endl << stddev << std::endl;\n",
    "std::cout << std::endl;"
   ]
  },
  {
   "cell_type": "code",
   "execution_count": 4,
   "metadata": {
    "ExecuteTime": {
     "end_time": "2021-07-28T05:55:32.171781Z",
     "start_time": "2021-07-28T05:55:32.160319Z"
    }
   },
   "outputs": [
    {
     "name": "stdout",
     "output_type": "stream",
     "text": [
      "[15, 20] [15, 20] [15, 20] [15, 20] [15, 20] \n",
      "[15, 20] [15, 20] [15, 20] [15, 20] [15, 20] \n",
      "[15;\n",
      " 20]\n",
      "[0;\n",
      " 0]\n",
      "\n"
     ]
    }
   ],
   "source": [
    "cv::Mat src1, mean1, stddev1;\n",
    "src1 = cv::Mat(2, 5, CV_32FC2, cv::Scalar(15, 20));\n",
    "cv::meanStdDev(src1, mean1, stddev1);\n",
    "display(src1, 2);\n",
    "std::cout << mean1 << std::endl << stddev1 << std::endl;\n",
    "std::cout << std::endl;"
   ]
  },
  {
   "cell_type": "code",
   "execution_count": 5,
   "metadata": {
    "ExecuteTime": {
     "end_time": "2021-07-28T05:55:32.183201Z",
     "start_time": "2021-07-28T05:55:32.171875Z"
    }
   },
   "outputs": [
    {
     "name": "stdout",
     "output_type": "stream",
     "text": [
      "[15, 20, 7] [15, 20, 7] [15, 20, 7] [15, 20, 7] [15, 20, 7] \n",
      "[15, 20, 7] [15, 20, 7] [15, 20, 7] [15, 20, 7] [15, 20, 7] \n",
      "[15;\n",
      " 20;\n",
      " 7]\n",
      "[0;\n",
      " 0;\n",
      " 0]\n",
      "\n"
     ]
    }
   ],
   "source": [
    "cv::Mat src2, mean2, stddev2;\n",
    "src2 = cv::Mat(2, 5, CV_32FC3, cv::Scalar(15, 20, 7));    \n",
    "cv::meanStdDev(src2, mean2, stddev2);\n",
    "display(src2, 3);\n",
    "std::cout << mean2 << std::endl << stddev2 << std::endl ;\n",
    "std::cout << std::endl;"
   ]
  },
  {
   "cell_type": "code",
   "execution_count": 3,
   "metadata": {
    "ExecuteTime": {
     "end_time": "2021-07-28T06:06:41.646240Z",
     "start_time": "2021-07-28T06:06:41.45684Z"
    }
   },
   "outputs": [
    {
     "name": "stdout",
     "output_type": "stream",
     "text": [
      "[15, 20, 7] [15, 20, 7] [15, 20, 7] [15, 20, 7] [15, 20, 7] \n",
      "[15, 20, 7] [15, 20, 7] [15, 20, 7] [15, 20, 7] [15, 20, 7] \n",
      "[0.230769, 1, -1] [0.230769, 1, -1] [0.230769, 1, -1] [0.230769, 1, -1] [0.230769, 1, -1] \n",
      "[0.230769, 1, -1] [0.230769, 1, -1] [0.230769, 1, -1] [0.230769, 1, -1] [0.230769, 1, -1] \n"
     ]
    }
   ],
   "source": [
    "cv::Mat src, norm_image;\n",
    "src = cv::Mat(2, 5, CV_32FC3, cv::Scalar(15, 20, 7));  \n",
    "display(src, 3);\n",
    "\n",
    "cv::normalize(src,norm_image, -1.0, 1.0, NORM_MINMAX);\n",
    "display(norm_image, 3);"
   ]
  }
 ],
 "metadata": {
  "kernelspec": {
   "display_name": "C++14",
   "language": "C++14",
   "name": "xcpp14"
  },
  "language_info": {
   "codemirror_mode": "text/x-c++src",
   "file_extension": ".cpp",
   "mimetype": "text/x-c++src",
   "name": "c++",
   "version": "14"
  },
  "toc": {
   "base_numbering": 1,
   "nav_menu": {},
   "number_sections": true,
   "sideBar": true,
   "skip_h1_title": false,
   "title_cell": "Table of Contents",
   "title_sidebar": "Contents",
   "toc_cell": false,
   "toc_position": {},
   "toc_section_display": true,
   "toc_window_display": false
  }
 },
 "nbformat": 4,
 "nbformat_minor": 4
}
