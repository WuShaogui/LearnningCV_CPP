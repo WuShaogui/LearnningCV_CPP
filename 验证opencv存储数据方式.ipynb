{
 "cells": [
  {
   "cell_type": "code",
   "execution_count": 1,
   "metadata": {
    "ExecuteTime": {
     "end_time": "2022-05-27T03:10:10.721578Z",
     "start_time": "2022-05-27T03:10:09.305735Z"
    }
   },
   "outputs": [],
   "source": [
    "#include \"JupyterOpencvIncludeLibraries.h\"\n",
    "#include \"displayImages.h\"\n",
    "#include <opencv2/opencv.hpp>\n",
    "using namespace cv;\n",
    "using namespace std;"
   ]
  },
  {
   "cell_type": "markdown",
   "metadata": {},
   "source": [
    "## 单通道"
   ]
  },
  {
   "cell_type": "code",
   "execution_count": 2,
   "metadata": {
    "ExecuteTime": {
     "end_time": "2022-05-27T03:10:11.961384Z",
     "start_time": "2022-05-27T03:10:11.921238Z"
    },
    "code_folding": []
   },
   "outputs": [
    {
     "name": "stdout",
     "output_type": "stream",
     "text": [
      "5 2 2 1\n"
     ]
    }
   ],
   "source": [
    "// 定义Mat （2，2，3）\n",
    "cv::Mat listMat[3];\n",
    "cv::Mat Rchannel = (cv::Mat_<float>(2,2,1) << 1.1, 2.1, 3.1, 4.1);\n",
    "cv::Mat Gchannel = (cv::Mat_<float>(2,2,1) << 1.2, 2.2, 3.2, 4.2);\n",
    "cv::Mat Bchannel = (cv::Mat_<float>(2,2,1) << 1.3, 2.3, 3.3, 4.3);\n",
    "std::cout<<Rchannel.type()<<\" \"<<Rchannel.rows<<\" \"<<Rchannel.cols<<\" \"<<Rchannel.channels()<<std::endl;\n",
    "listMat[0]=Rchannel.clone();\n",
    "listMat[1]=Gchannel.clone();\n",
    "listMat[2]=Bchannel.clone();"
   ]
  },
  {
   "cell_type": "code",
   "execution_count": null,
   "metadata": {
    "ExecuteTime": {
     "end_time": "2022-05-27T03:03:52.825163Z",
     "start_time": "2022-05-27T03:03:52.815960Z"
    }
   },
   "outputs": [],
   "source": [
    "// 打印1\n",
    "for(int c=0;c<Gchannel.channels();c++){\n",
    "    for(int h=0;h<Gchannel.cols;h++){\n",
    "        for(int w=0;w<Gchannel.rows;w++){\n",
    "            std::cout<<Gchannel.at<float>(h,w)<<\",\";\n",
    "        }\n",
    "        std::cout<<\"\"<<std::endl;\n",
    "    }\n",
    "    std::cout<<\"\\n\"<<std::endl;\n",
    "}"
   ]
  },
  {
   "cell_type": "code",
   "execution_count": null,
   "metadata": {
    "ExecuteTime": {
     "end_time": "2022-05-27T03:07:08.804380Z",
     "start_time": "2022-05-27T03:07:08.73793Z"
    }
   },
   "outputs": [],
   "source": [
    "// 打印2\n",
    "float* imgData=(float*)Gchannel.data;\n",
    "for(int i=0;i<Gchannel.cols*Gchannel.rows;i++){\n",
    "    std::cout<<imgData[i]<<\",\";\n",
    "}"
   ]
  },
  {
   "cell_type": "markdown",
   "metadata": {},
   "source": [
    "## 3通道"
   ]
  },
  {
   "cell_type": "code",
   "execution_count": 3,
   "metadata": {
    "ExecuteTime": {
     "end_time": "2022-05-27T03:10:16.337051Z",
     "start_time": "2022-05-27T03:10:16.321999Z"
    },
    "code_folding": []
   },
   "outputs": [
    {
     "name": "stdout",
     "output_type": "stream",
     "text": [
      "21 2 2 3\n"
     ]
    }
   ],
   "source": [
    "// 定义Mat （3，3，3）\n",
    "cv::Mat mergeMat;\n",
    "cv::merge(listMat, 3, mergeMat);\n",
    "std::cout<<mergeMat.type()<<\" \"<<mergeMat.rows<<\" \"<<mergeMat.cols<<\" \"<<mergeMat.channels()<<std::endl;"
   ]
  },
  {
   "cell_type": "code",
   "execution_count": 4,
   "metadata": {
    "ExecuteTime": {
     "end_time": "2022-05-27T03:10:19.253243Z",
     "start_time": "2022-05-27T03:10:19.242386Z"
    }
   },
   "outputs": [
    {
     "name": "stdout",
     "output_type": "stream",
     "text": [
      "1.1,2.1,\n",
      "3.1,4.1,\n",
      "\n",
      "\n",
      "1.2,2.2,\n",
      "3.2,4.2,\n",
      "\n",
      "\n",
      "1.3,2.3,\n",
      "3.3,4.3,\n",
      "\n",
      "\n"
     ]
    }
   ],
   "source": [
    "// 打印1\n",
    "for(int c=0;c<mergeMat.channels();c++){\n",
    "    for(int h=0;h<mergeMat.cols;h++){\n",
    "        for(int w=0;w<mergeMat.rows;w++){\n",
    "            std::cout<<float(cv::Vec3f(mergeMat.at<cv::Vec3f>(h,w)).val[c])<<\",\";\n",
    "        }\n",
    "        std::cout<<\"\"<<std::endl;\n",
    "    }\n",
    "    std::cout<<\"\\n\"<<std::endl;\n",
    "}"
   ]
  },
  {
   "cell_type": "code",
   "execution_count": 5,
   "metadata": {
    "ExecuteTime": {
     "end_time": "2022-05-27T03:10:22.362580Z",
     "start_time": "2022-05-27T03:10:22.355127Z"
    }
   },
   "outputs": [
    {
     "name": "stdout",
     "output_type": "stream",
     "text": [
      "1.1,1.2,1.3,2.1,2.2,2.3,3.1,3.2,3.3,4.1,4.2,4.3,"
     ]
    }
   ],
   "source": [
    "// 打印2\n",
    "float* matData=(float*)mergeMat.data;\n",
    "for(int i=0;i<mergeMat.cols*mergeMat.rows*mergeMat.channels();i++){\n",
    "    std::cout<<matData[i]<<\",\";\n",
    "}"
   ]
  },
  {
   "cell_type": "markdown",
   "metadata": {},
   "source": [
    "## 复制操作"
   ]
  },
  {
   "cell_type": "markdown",
   "metadata": {
    "heading_collapsed": true
   },
   "source": [
    "### 整体复制"
   ]
  },
  {
   "cell_type": "code",
   "execution_count": null,
   "metadata": {
    "ExecuteTime": {
     "end_time": "2021-08-20T03:34:28.204703Z",
     "start_time": "2021-08-20T03:34:28.203110Z"
    },
    "hidden": true
   },
   "outputs": [],
   "source": [
    "size_t dataSize=mergeMat.cols*mergeMat.rows*sizeof(float);\n",
    "float* bufferData1= new float[dataSize];"
   ]
  },
  {
   "cell_type": "code",
   "execution_count": null,
   "metadata": {
    "ExecuteTime": {
     "end_time": "2021-08-20T03:34:28.207193Z",
     "start_time": "2021-08-20T03:34:28.204821Z"
    },
    "hidden": true
   },
   "outputs": [],
   "source": [
    "std::memcpy(bufferData1,(float*)mergeMat.data,dataSize*mergeMat.channels());\n",
    "for(int i=0;i<27;i++){\n",
    "    std::cout<<bufferData1[i]<<\",\";\n",
    "}"
   ]
  },
  {
   "cell_type": "markdown",
   "metadata": {
    "heading_collapsed": true
   },
   "source": [
    "### 按通道复制"
   ]
  },
  {
   "cell_type": "code",
   "execution_count": null,
   "metadata": {
    "ExecuteTime": {
     "end_time": "2021-08-20T03:34:28.214465Z",
     "start_time": "2021-08-20T03:34:28.207326Z"
    },
    "hidden": true
   },
   "outputs": [],
   "source": [
    "cv::Mat splitMat[3];\n",
    "cv::split(mergeMat,splitMat);\n",
    "std::cout<<splitMat[0].type()<<\" \"<<splitMat[0].rows<<\" \"<<splitMat[0].cols<<\" \"<<splitMat[0].channels()<<std::endl;"
   ]
  },
  {
   "cell_type": "code",
   "execution_count": null,
   "metadata": {
    "ExecuteTime": {
     "end_time": "2021-08-20T03:34:28.217049Z",
     "start_time": "2021-08-20T03:34:28.214586Z"
    },
    "hidden": true
   },
   "outputs": [],
   "source": [
    "// 打印2\n",
    "float* imgData1=(float*)splitMat[1].data;\n",
    "for(int i=0;i<splitMat[1].cols*splitMat[1].rows;i++){\n",
    "    std::cout<<imgData1[i]<<\",\";\n",
    "}"
   ]
  },
  {
   "cell_type": "code",
   "execution_count": null,
   "metadata": {
    "ExecuteTime": {
     "end_time": "2021-08-20T03:34:28.217404Z",
     "start_time": "2021-08-20T03:34:28.217164Z"
    },
    "hidden": true
   },
   "outputs": [],
   "source": [
    "// cv::Mat convertToMat;\n",
    "// splitMat[0].convertTo(convertToMat, CV_32FC1);\n",
    "// std::cout<<convertToMat.type()<<\" \"<<convertToMat.rows<<\" \"<<convertToMat.cols<<\" \"<<convertToMat.channels()<<std::endl;"
   ]
  },
  {
   "cell_type": "code",
   "execution_count": null,
   "metadata": {
    "ExecuteTime": {
     "end_time": "2021-08-20T03:34:28.219963Z",
     "start_time": "2021-08-20T03:34:28.217513Z"
    },
    "hidden": true
   },
   "outputs": [],
   "source": [
    "size_t dataSize1=splitMat[0].cols*splitMat[0].rows*sizeof(float);\n",
    "size_t imageSize=splitMat[0].cols*splitMat[0].rows;\n",
    "float* bufferData3= new float[dataSize1*3];\n",
    "std::memcpy(bufferData3,(float*)splitMat[0].data,dataSize1);"
   ]
  },
  {
   "cell_type": "code",
   "execution_count": null,
   "metadata": {
    "ExecuteTime": {
     "end_time": "2021-08-20T03:34:28.221871Z",
     "start_time": "2021-08-20T03:34:28.220084Z"
    },
    "hidden": true
   },
   "outputs": [],
   "source": [
    "for(int i=0;i<27;i++){\n",
    "    std::cout<<bufferData3[i]<<\",\";\n",
    "}"
   ]
  },
  {
   "cell_type": "code",
   "execution_count": null,
   "metadata": {
    "ExecuteTime": {
     "end_time": "2021-08-20T03:34:28.223413Z",
     "start_time": "2021-08-20T03:34:28.221980Z"
    },
    "hidden": true
   },
   "outputs": [],
   "source": [
    "std::memcpy(bufferData3+imageSize,(float*)splitMat[1].data,dataSize1);"
   ]
  },
  {
   "cell_type": "code",
   "execution_count": null,
   "metadata": {
    "ExecuteTime": {
     "end_time": "2021-08-20T03:34:28.225252Z",
     "start_time": "2021-08-20T03:34:28.223537Z"
    },
    "hidden": true
   },
   "outputs": [],
   "source": [
    "for(int i=0;i<27;i++){\n",
    "    std::cout<<bufferData3[i]<<\",\";\n",
    "}"
   ]
  },
  {
   "cell_type": "code",
   "execution_count": null,
   "metadata": {
    "ExecuteTime": {
     "end_time": "2021-08-20T03:34:28.226776Z",
     "start_time": "2021-08-20T03:34:28.225362Z"
    },
    "hidden": true
   },
   "outputs": [],
   "source": [
    "std::memcpy(bufferData3+2*imageSize,(float*)splitMat[2].data,dataSize1);"
   ]
  },
  {
   "cell_type": "code",
   "execution_count": null,
   "metadata": {
    "ExecuteTime": {
     "end_time": "2021-08-20T03:34:28.228677Z",
     "start_time": "2021-08-20T03:34:28.226893Z"
    },
    "hidden": true
   },
   "outputs": [],
   "source": [
    "for(int i=0;i<27;i++){\n",
    "    std::cout<<bufferData3[i]<<\",\";\n",
    "}"
   ]
  },
  {
   "cell_type": "code",
   "execution_count": null,
   "metadata": {
    "hidden": true
   },
   "outputs": [],
   "source": []
  },
  {
   "cell_type": "code",
   "execution_count": null,
   "metadata": {
    "ExecuteTime": {
     "end_time": "2021-08-20T03:34:28.231271Z",
     "start_time": "2021-08-20T03:34:28.228790Z"
    },
    "hidden": true
   },
   "outputs": [],
   "source": [
    "float* bufferData4= new float[dataSize1*3];\n",
    "std::memcpy(bufferData4,(float*)splitMat[0].data,dataSize1);\n",
    "std::memcpy((float*)(bufferData4+dataSize1),(float*)splitMat[1].data,dataSize1);\n",
    "std::memcpy((float*)(bufferData4+2*dataSize1),(float*)splitMat[2].data,dataSize1);"
   ]
  },
  {
   "cell_type": "code",
   "execution_count": null,
   "metadata": {
    "ExecuteTime": {
     "end_time": "2021-08-20T03:34:28.233136Z",
     "start_time": "2021-08-20T03:34:28.231391Z"
    },
    "hidden": true
   },
   "outputs": [],
   "source": [
    "for(int i=0;i<27;i++){\n",
    "    std::cout<<bufferData4[i]<<\",\";\n",
    "}"
   ]
  },
  {
   "cell_type": "code",
   "execution_count": null,
   "metadata": {
    "ExecuteTime": {
     "end_time": "2021-08-20T03:34:28.236164Z",
     "start_time": "2021-08-20T03:34:28.233252Z"
    },
    "hidden": true
   },
   "outputs": [],
   "source": [
    "float* bufferData2= new float[dataSize*3];\n",
    "std::memcpy(bufferData2,splitMat[0].ptr<unsigned char>(0),dataSize1);\n",
    "std::memcpy(bufferData2+dataSize1,splitMat[1].ptr<unsigned char>(0),dataSize1);\n",
    "std::memcpy(bufferData2+2*dataSize1,splitMat[2].ptr<unsigned char>(0),dataSize1);"
   ]
  },
  {
   "cell_type": "code",
   "execution_count": null,
   "metadata": {
    "ExecuteTime": {
     "end_time": "2021-08-20T03:34:28.237990Z",
     "start_time": "2021-08-20T03:34:28.236284Z"
    },
    "hidden": true
   },
   "outputs": [],
   "source": [
    "for(int i=0;i<27;i++){\n",
    "    std::cout<<bufferData2[i]<<\",\";\n",
    "}"
   ]
  }
 ],
 "metadata": {
  "kernelspec": {
   "display_name": "C++14 [conda env:py37] *",
   "language": "C++14",
   "name": "conda-env-py37-xcpp14"
  },
  "language_info": {
   "codemirror_mode": "text/x-c++src",
   "file_extension": ".cpp",
   "mimetype": "text/x-c++src",
   "name": "c++",
   "version": "14"
  },
  "toc": {
   "base_numbering": 1,
   "nav_menu": {},
   "number_sections": true,
   "sideBar": true,
   "skip_h1_title": false,
   "title_cell": "Table of Contents",
   "title_sidebar": "Contents",
   "toc_cell": false,
   "toc_position": {},
   "toc_section_display": true,
   "toc_window_display": false
  }
 },
 "nbformat": 4,
 "nbformat_minor": 4
}
