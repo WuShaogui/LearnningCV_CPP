{
 "cells": [
  {
   "cell_type": "markdown",
   "metadata": {},
   "source": [
    "本脚本首先造出一张不同值得多值图片，经过二值化后得到所有值得边缘轮廓，并使用3层vector存储，最终将这3层vector还原为多值图片"
   ]
  },
  {
   "cell_type": "code",
   "execution_count": 1,
   "metadata": {},
   "outputs": [],
   "source": [
    "#include \"JupyterOpencvIncludeLibraries.h\"\n",
    "#include \"displayImages.h\"\n",
    "#include <opencv2/opencv.hpp>\n",
    "#include <vector>\n",
    "using namespace std;\n",
    "using namespace cv;"
   ]
  },
  {
   "cell_type": "code",
   "execution_count": 2,
   "metadata": {},
   "outputs": [
    {
     "data": {
      "image/png": "[encoded data removed]"
     },
     "metadata": {},
     "output_type": "display_data"
    }
   ],
   "source": [
    "//模拟AI输出数据,0为背景，大于0为缺陷（有多个类别）\n",
    "int inputH = 320;\n",
    "int inputW = 320;\n",
    "cv::Mat test_image(inputH, inputW, CV_8UC1, cv::Scalar(0, 0));\n",
    "cv::Mat segReturnImage(inputH, inputW, CV_8UC1, cv::Scalar(0, 0));\n",
    "cv::circle(segReturnImage, cv::Point(150, 150), 80, 0, -1);\n",
    "cv::circle(segReturnImage, cv::Point(220, 110), 30, 80, -1);\n",
    "cv::circle(segReturnImage, cv::Point(130, 130), 30, 80, -1);\n",
    "cv::circle(segReturnImage, cv::Point(130, 130), 15, 0, -1);\n",
    "cv::circle(segReturnImage, cv::Point(130, 130), 5, 240, -1);\n",
    "cv::circle(segReturnImage, cv::Point(180, 180), 20, 160, -1);\n",
    "cv::circle(segReturnImage, cv::Point(170, 170), 22, 160, -1);\n",
    "cv::circle(segReturnImage, cv::Point(250, 250), 30, 0, -1);\n",
    "cv::circle(segReturnImage, cv::Point(250, 250), 15, 240, -1);\n",
    "cv::circle(segReturnImage, cv::Point(50, 250), 15, 0, -1);\n",
    "displayImage(segReturnImage);"
   ]
  },
  {
   "cell_type": "code",
   "execution_count": 3,
   "metadata": {},
   "outputs": [],
   "source": [
    "/// <summary>\n",
    "/// 获取构成ploy的所有树状数据的所有根节点\n",
    "/// </summary>\n",
    "/// <param name=\"hierarchy\">ploy的层次结构</param>\n",
    "/// <param name=\"allTreeRootNodes\">所有树的根节点</param>\n",
    "/// <returns></returns>\n",
    "int getTreeRootNodes(vector<cv::Vec4i> hierarchy, vector<int>& allTreeRootNodes) \n",
    "{\n",
    "    for (size_t i = 0; i < hierarchy.size(); i++)\n",
    "    {\n",
    "        if (hierarchy[i][3] == -1) \n",
    "        {\n",
    "            allTreeRootNodes.push_back(i);\n",
    "        }\n",
    "    }\n",
    "\n",
    "    return 1;\n",
    "}"
   ]
  },
  {
   "cell_type": "code",
   "execution_count": 4,
   "metadata": {},
   "outputs": [],
   "source": [
    "/// <summary>\n",
    "/// 获取一颗树的某一层所有节点\n",
    "/// </summary>\n",
    "/// <param name=\"hierarchy\">ploy的层次结构</param>\n",
    "/// <param name=\"curSameLevelNodes\">当前层的所有节点</param>\n",
    "/// <param name=\"reSameLevelNodes\">下一层的所有节点</param>\n",
    "/// <returns></returns>\n",
    "int getSameLevelNodes(vector<cv::Vec4i> hierarchy, vector<int>& curSameLevelNodes, vector<int>& nextSameLevelNodes) {\n",
    "    nextSameLevelNodes.clear();\n",
    "\n",
    "    for (size_t i = 0; i < curSameLevelNodes.size(); i++)\n",
    "    {\n",
    "        int curNode = curSameLevelNodes[i];\n",
    "        int nextNode = hierarchy[curNode][2];\n",
    "        if (nextNode > 0) {\n",
    "            nextSameLevelNodes.push_back(nextNode);\n",
    "        }\n",
    "        while (nextNode > 0 and hierarchy[nextNode][0] > 0)\n",
    "        {\n",
    "            nextSameLevelNodes.push_back(hierarchy[nextNode][0]);\n",
    "            nextNode = hierarchy[nextNode][0];\n",
    "\n",
    "        }\n",
    "    }\n",
    "\n",
    "    return 1;\n",
    "}"
   ]
  },
  {
   "cell_type": "code",
   "execution_count": 5,
   "metadata": {},
   "outputs": [],
   "source": [
    "/// <summary>\n",
    "/// 通过ploy的层次结构获得ploy的所有树的分层结构\n",
    "/// </summary>\n",
    "/// <param name=\"hierarchy\"></param>\n",
    "/// <param name=\"allPloyTree\"></param>\n",
    "/// <returns></returns>\n",
    "int getAllPloyTree(std::vector<cv::Vec4i> hierarchy, std::vector<std::vector<std::vector<int>>>& allPloyTree) {\n",
    "    //获取所有树的根节点\n",
    "    std::vector<int> allTreeRootNodes;\n",
    "    getTreeRootNodes(hierarchy, allTreeRootNodes);\n",
    "\n",
    "\n",
    "    for (size_t i = 0; i < allTreeRootNodes.size(); i++) {\n",
    "        //解析得到一棵树\n",
    "        std::vector<std::vector<int>> sampleLevelNodes;\n",
    "        //添加根节点\n",
    "        std::vector<int> curRootNode{ allTreeRootNodes[i] };\n",
    "        sampleLevelNodes.push_back(curRootNode);\n",
    "\n",
    "        //获得每层所有节点\n",
    "        std::vector<int> reSameLevelNodes;\n",
    "        getSameLevelNodes(hierarchy, curRootNode, reSameLevelNodes);\n",
    "\n",
    "        while (reSameLevelNodes.size() > 0) {\n",
    "            sampleLevelNodes.push_back(reSameLevelNodes);\n",
    "            getSameLevelNodes(hierarchy, reSameLevelNodes, reSameLevelNodes);\n",
    "        }\n",
    "        allPloyTree.push_back(sampleLevelNodes);\n",
    "    }\n",
    "\n",
    "    return 1;\n",
    "}"
   ]
  },
  {
   "cell_type": "code",
   "execution_count": 6,
   "metadata": {},
   "outputs": [
    {
     "data": {
      "image/png": "[encoded data removed]"
     },
     "metadata": {},
     "output_type": "display_data"
    },
    {
     "data": {
      "image/png": "[encoded data removed]"
     },
     "metadata": {},
     "output_type": "display_data"
    },
    {
     "data": {
      "image/png": "[encoded data removed]"
     },
     "metadata": {},
     "output_type": "display_data"
    },
    {
     "data": {
      "image/png": "[encoded data removed]"
     },
     "metadata": {},
     "output_type": "display_data"
    },
    {
     "data": {
      "image/png": "[encoded data removed]"
     },
     "metadata": {},
     "output_type": "display_data"
    },
    {
     "data": {
      "image/png": "[encoded data removed]"
     },
     "metadata": {},
     "output_type": "display_data"
    }
   ],
   "source": [
    "vector<int> labelsValue{80,160,240};//图像上共有3个类别\n",
    "\n",
    "for (int classValue : labelsValue) {\n",
    "    //针对类别1进行分析\n",
    "        //二值化\n",
    "    cv::Mat classImageBinary(inputH, inputW, CV_8UC1);\n",
    "    cv::inRange(segReturnImage, cv::Scalar(classValue), cv::Scalar(classValue), classImageBinary);\n",
    "    //cv::imwrite(\"classImageBinary.png\", classImageBinary);\n",
    "    displayImage(classImageBinary);\n",
    "\n",
    "    //求边缘点集合及层次结构\n",
    "    std::vector<std::vector<cv::Point>> contours;\n",
    "    std::vector<cv::Vec4i> hierarchy;\n",
    "    cv::findContours(classImageBinary, contours, hierarchy, cv::RETR_TREE, cv::CHAIN_APPROX_SIMPLE, cv::Point());\n",
    "\n",
    "    //解析层次结构得到ploy森林\n",
    "    std::vector<std::vector<std::vector<int>>> allPloyTree;\n",
    "    getAllPloyTree(hierarchy, allPloyTree);\n",
    "\n",
    "    //根据ploy森林及边缘点集还原为mask\n",
    "    bool isInnerMask=true;\n",
    "    cv::Mat classImageMask(inputH, inputW, CV_8UC1);\n",
    "    for (int i = 0; i < allPloyTree.size(); i++)\n",
    "    {\n",
    "        int fill_value;\n",
    "        if (isInnerMask) {\n",
    "            fill_value = 255;\n",
    "        }\n",
    "        else\n",
    "        {\n",
    "            fill_value = 0;\n",
    "        }\n",
    "\n",
    "        for (int j = 0; j < allPloyTree.at(i).size(); j++) {\n",
    "            for (int k = 0; k < allPloyTree.at(i).at(j).size(); k++) {\n",
    "                std::vector<std::vector<cv::Point>> curcontours;\n",
    "                curcontours.push_back(contours[allPloyTree.at(i).at(j).at(k)]);\n",
    "                cv::drawContours(classImageMask, curcontours, -1, cv::Scalar::all(fill_value), -1);\n",
    "            }\n",
    "\n",
    "            if (fill_value == 255) {\n",
    "                fill_value = 0;\n",
    "            }\n",
    "            else\n",
    "            {\n",
    "                fill_value = 255;\n",
    "            }\n",
    "        }\n",
    "    }\n",
    "    string savePath =\"classImageMask-\" + to_string(classValue) + \".png\";\n",
    "    // cv::imwrite(savePath, classImageMask);\n",
    "    displayImage(classImageMask);\n",
    "}"
   ]
  }
 ],
 "metadata": {
  "kernelspec": {
   "display_name": "C++14",
   "language": "C++14",
   "name": "xcpp14"
  },
  "language_info": {
   "codemirror_mode": "text/x-c++src",
   "file_extension": ".cpp",
   "mimetype": "text/x-c++src",
   "name": "c++",
   "version": "14"
  }
 },
 "nbformat": 4,
 "nbformat_minor": 2
}
