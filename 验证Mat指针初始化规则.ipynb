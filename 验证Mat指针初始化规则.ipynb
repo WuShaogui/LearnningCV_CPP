{
 "cells": [
  {
   "cell_type": "code",
   "execution_count": 1,
   "metadata": {},
   "outputs": [],
   "source": [
    "#include \"JupyterOpencvIncludeLibraries.h\"\n",
    "#include \"displayImages.h\"\n",
    "#include <opencv2/opencv.hpp>\n",
    "#include <string>\n",
    "using namespace cv;\n",
    "using namespace std;"
   ]
  },
  {
   "cell_type": "code",
   "execution_count": 2,
   "metadata": {},
   "outputs": [
    {
     "name": "stdout",
     "output_type": "stream",
     "text": [
      "0:1\n",
      "1:0\n",
      "2:0\n"
     ]
    }
   ],
   "source": [
    "int* a=new int[3]{1};\n",
    "for(int i=0;i<3;i++)\n",
    "{\n",
    "    std::cout<<i<<\":\"<<a[i]<<std::endl;\n",
    "}"
   ]
  },
  {
   "cell_type": "code",
   "execution_count": 3,
   "metadata": {},
   "outputs": [],
   "source": [
    "cv::Mat* b=new cv::Mat[3]; // 未实例化任何Mat"
   ]
  },
  {
   "cell_type": "code",
   "execution_count": 4,
   "metadata": {},
   "outputs": [
    {
     "ename": "Standard Exception",
     "evalue": "OpenCV(4.4.0) /home/wushaogui/soft/opencv_gpu/opencv-4.4.0/modules/imgcodecs/src/loadsave.cpp:738: error: (-215:Assertion failed) !_img.empty() in function 'imwrite'\n",
     "output_type": "error",
     "traceback": [
      "Standard Exception: OpenCV(4.4.0) /home/wushaogui/soft/opencv_gpu/opencv-4.4.0/modules/imgcodecs/src/loadsave.cpp:738: error: (-215:Assertion failed) !_img.empty() in function 'imwrite'\n"
     ]
    }
   ],
   "source": [
    "std::string fileName;\n",
    "for(int i=0;i<3;i++)\n",
    "{\n",
    "    fileName=std::to_string(i)+\"-b.png\";\n",
    "    cv::imwrite(fileName,b[i]);\n",
    "} "
   ]
  },
  {
   "cell_type": "code",
   "execution_count": 5,
   "metadata": {},
   "outputs": [],
   "source": [
    "cv::Mat* c=new cv::Mat[3]{cv::Mat(100,200,CV_8UC1,cv::Scalar(1))}; // 仅实例化第一个Mat"
   ]
  },
  {
   "cell_type": "code",
   "execution_count": 6,
   "metadata": {},
   "outputs": [
    {
     "ename": "Standard Exception",
     "evalue": "OpenCV(4.4.0) /home/wushaogui/soft/opencv_gpu/opencv-4.4.0/modules/imgcodecs/src/loadsave.cpp:738: error: (-215:Assertion failed) !_img.empty() in function 'imwrite'\n",
     "output_type": "error",
     "traceback": [
      "Standard Exception: OpenCV(4.4.0) /home/wushaogui/soft/opencv_gpu/opencv-4.4.0/modules/imgcodecs/src/loadsave.cpp:738: error: (-215:Assertion failed) !_img.empty() in function 'imwrite'\n"
     ]
    }
   ],
   "source": [
    "for(int i=0;i<3;i++)\n",
    "{\n",
    "    fileName=std::to_string(i)+\"-c.png\";\n",
    "    cv::imwrite(fileName,c[i]);\n",
    "}"
   ]
  }
 ],
 "metadata": {
  "kernelspec": {
   "display_name": "C++14",
   "language": "C++14",
   "name": "xcpp14"
  },
  "language_info": {
   "codemirror_mode": "text/x-c++src",
   "file_extension": ".cpp",
   "mimetype": "text/x-c++src",
   "name": "c++",
   "version": "14"
  }
 },
 "nbformat": 4,
 "nbformat_minor": 2
}
